{
 "cells": [
  {
   "cell_type": "markdown",
   "metadata": {},
   "source": [
    "Nom des élèves du groupe : "
   ]
  },
  {
   "cell_type": "markdown",
   "metadata": {},
   "source": [
    "# Activité numérique : Etude de l'évolution d'un système chimique\n",
    "\n",
    "## 1. Utiliser un notebook\n",
    "\n",
    "Dans ce TP, tu vas utiliser un _notebook_ Jupyter qui est un document « mixte », contenant du texte et du code Python. Ces lignes, que tu es en train de lire, font partie d'un _notebook_ .\n",
    "\n",
    "Dans la suite de ce _notebook_ , on va donc utiliser du code Python. Pas d'inquiétude si tu ne comprends pas toutes les lignes de code. Tu ne vas devoir modifier que certaines lignes.\n",
    "Un _notebook_ Jupyter te permet de de modifier et d'exécuter des scripts Python, directement dans le navigateur.\n",
    "\n",
    "En haut du _notebook_ , tu dois voir une barre, contenant&nbsp;:\n",
    "* un titre pour le _notebook_ ;\n",
    "* une barre de menus avec les entrées `File`, `Insert`, `Cell`, `Kernel`;\n",
    "* et une barre de boutons qui sont des raccourcis vers certains menus fréquemment utilisés. Si tu laisses ta souris au dessus d'un bouton, un petit texte apparaît, indiquant à quelle fonction correspond ce bouton.\n",
    "\n",
    "Un _notebook_ est constitué d'une suite de cellules, soit textuelles, soit contenant du code. Les cellules de code sont facilement reconnaissables, elles sont précédées de `Entrée [ ]:`. La cellule qui suit celle que tu es en train de lire est une cellule de code.\n",
    "\n",
    "Pour commencer, sélectionne la cellule de code ci-dessous avec ta souris et appuie dans la barre de boutons sur celui en forme de flèche triangulaire vers la droite (`Exécuter`)."
   ]
  },
  {
   "cell_type": "code",
   "execution_count": null,
   "metadata": {},
   "outputs": [],
   "source": [
    "20*30"
   ]
  },
  {
   "cell_type": "markdown",
   "metadata": {},
   "source": [
    "Comme tu le vois, la cellule est « exécutée » (on dira plus volontiers « évaluée »), et on passe à la cellule suivante.\n",
    "\n",
    "Alternativement tu peux simplement taper au clavier <kbd>SHIFT</kbd>+<kbd>ENTER</kbd>, ou, selon les claviers, <kbd>MAJ</kbd>+<kbd>ENTRÉE</kbd>, pour obtenir le même effet. D'une manière générale, il est important d'apprendre et d'utiliser les raccourcis clavier, cela te fera gagner beaucoup de temps par la suite.\n",
    "\n",
    "La façon habituelle d'exécuter l'ensemble du notebook consiste à partir de la première cellule, et à taper  <kbd>SHIFT</kbd>+<kbd>ENTER</kbd> (ou <kbd>MAJ</kbd>+<kbd>ENTRÉE</kbd>) jusqu'au bout du notebook, en n'allant pas trop vite, c'est-à-dire en attendant le résultat de l'exécution de chaque cellule.\n",
    "\n",
    "Lorsqu'une cellule de code a été évaluée, Jupyter ajoute sous la cellule `Entrée` une cellule `Out` qui donne le résultat du fragment Python, soit ci-dessus 600.\n",
    "\n",
    "Jupyter ajoute également un nombre entre les crochets pour afficher, par exemple ci-dessus, `Entrée [1]:`. Ce nombre te permet de retrouver l'ordre dans lequel les cellules ont été évaluées.\n",
    "\n",
    "Tu peux naturellement modifier ces cellules de code pour faire des essais.\n",
    "\n",
    "Tu peux également évaluer tout le notebook en une seule fois en utilisant le menu `Cell` -> `Run All`.\n",
    "\n",
    "Si tu fais trop de modifications, ou si tu perds le fil de ce que tu as évalué, il peut être utile de redémarrer ton interpréteur. Le menu `Kernel` → `Restart` te permet de faire cela.\n",
    "\n",
    "\n",
    "### __<font style=\"color:#FF0000;\">Attention :</font>__  \n",
    "<B><font style=\"color:#FF0000;\"> Il est important de sauvegarder ton travail très régulièrement. Pour cela il faut cliquer sur le bouton représentant une disquette qui se trouve en haut à gauche dans la barre de boutons (Créer  une nouvelle sauvegarde).</font></B>\n",
    "\n",
    "\n",
    "## 2. Travail demandé\n",
    "Tu devras :\n",
    "- lire ce _notebook_ et exécuter au fur et à mesure toutes les cellules de code (taper au clavier <kbd>SHIFT</kbd>+<kbd>ENTER</kbd> ou <kbd>MAJ</kbd>+<kbd>ENTRÉE</kbd>).\n",
    "- analyser les résultats obtenus\n",
    "- répondre aux questions en sélectionnnant avec ta souris la cellule textuelle située juste en dessous de la question afin de pouvoir y rédiger ta réponse.\n",
    "- modifier certaines lignes du code quand cela te sera demandé."
   ]
  },
  {
   "cell_type": "markdown",
   "metadata": {},
   "source": [
    "## 3. Problématique  \n",
    "Ce programme permet d'étudier l'évolution des quantités de matière des réactifs et produits d'une réaction dont l'équation est du type :\n",
    "aA + bB -->   cC + dD\n",
    "où a, b, c et d sont les nombres stoechiométriques respectifs des espèces chimiques A, B, C et D.\n",
    "\n",
    "__Capacité numérique :__  Déterminer la composition de l'état final d'un système siège d'une transformation chimique totale à l'aide d'un langage de programmation.\n",
    "\n",
    "## 4. Les données d'entrée\n",
    "Le programme doit tout d'abord connaître le nom des réactifs et des produits puis les valeurs des nombres stoechiométriques et enfin les quantités de matière initiales des réactifs et des produits.\n",
    "\n",
    "On s'intéresse à la réaction mettant en jeu le diiode $I_{2} $ et les ions thiosulfate $S_{2}O_{3}^{2-}$\n",
    "La transformation est modélisée par la réaction d’équation :  \n",
    "    \n",
    "\n",
    "$$I_{2~(aq)} + 2S_{2}O_{3~(aq)}^{2-}  =  2 I^{-}_{(aq)} + S_4O_{6~(aq)}^{2-}$$\n"
   ]
  },
  {
   "cell_type": "code",
   "execution_count": null,
   "metadata": {},
   "outputs": [],
   "source": [
    "# Rattachement des librairies gérant les tracés \n",
    "# de courbes et certains outils mathématiques \n",
    "import matplotlib.pyplot as plt\n",
    "%matplotlib notebook\n",
    "import numpy as np"
   ]
  },
  {
   "cell_type": "markdown",
   "metadata": {},
   "source": [
    "### Saisie du nom des réactifs et des produits\n",
    "\n",
    "__Question 1__ : Sur le modèle des lignes de code 2 et 3, modifier les lignes de code nécessaires (lignes 4 et 5) pour entrer le nom des produits C et D."
   ]
  },
  {
   "cell_type": "code",
   "execution_count": null,
   "metadata": {},
   "outputs": [],
   "source": [
    "# Nom des réactifs et des produits\n",
    "nom_A=\"I2\"   \n",
    "nom_B=\"S2O3--\"\n",
    "nom_C=\n",
    "nom_D="
   ]
  },
  {
   "cell_type": "markdown",
   "metadata": {},
   "source": [
    "### Saisie des nombres stoechiométriques\n",
    "\n",
    "__Question 2__ : Sur le modèle de la ligne de code 2, modifier les lignes de code nécessaires (lignes 3, 4 et 5) pour entrer les valeurs des nombres stoechiométriques b, c et d."
   ]
  },
  {
   "cell_type": "code",
   "execution_count": null,
   "metadata": {},
   "outputs": [],
   "source": [
    "# Nombres stoechiométriques\n",
    "a=1   \n",
    "b=\n",
    "c=\n",
    "d="
   ]
  },
  {
   "cell_type": "code",
   "execution_count": null,
   "metadata": {},
   "outputs": [],
   "source": [
    "# Affichage de l'équation de la réaction\n",
    "print(\"L'équation étudiée est : \",\n",
    "      a,\" \",nom_A,\"    +    \",b,\" \",nom_B,\"    -->     \",\n",
    "      c,\" \",nom_C,\"      +    \",d,\" \",nom_D)"
   ]
  },
  {
   "cell_type": "markdown",
   "metadata": {},
   "source": [
    "### Saisie des valeurs des quantités de matière initiales\n",
    "\n",
    "Les valeurs des quantités de matière initiales des réactifs et des produits (exprimées en mole) seront stockées dans des variables notées n_0\n",
    "\n",
    "(ex : nA_0 pour l'espèce chimique A).\n",
    "\n",
    "Pour la réaction étudiée on considère que l'on a introduit à l'état initial :  \n",
    "3,5 mmol de diiode $I_{2} $ et 5,0 mmol d'ions thiosulfate $S_{2}O_{3}^{2-}$\n",
    "\n",
    "\n",
    "__Question 3__ : Sur le modèle de la ligne de code 2, ajouter les lignes de code nécessaires (lignes 3, 4 et 5) pour entrer les quantités de matière initiales des autres espèces chimiques en jeu.\n",
    "Attention de bien entrer les valeurs en mol ! Vous pourrez par exemple taper 2.5e-3  pour 2,5 mmol"
   ]
  },
  {
   "cell_type": "code",
   "execution_count": null,
   "metadata": {},
   "outputs": [],
   "source": [
    "# Quantités de matières initiales en mol\n",
    "nA_0 = 3.5e-3    \n",
    "nB_0 = \n",
    "nC_0 = \n",
    "nD_0 = "
   ]
  },
  {
   "cell_type": "markdown",
   "metadata": {},
   "source": [
    "## 5. Initialisation des variables\n",
    "- La variable `Rlimitant` initialement vide aura vocation à accueillir le nom du (ou des) réactif(s) limitant(s) selon la composition du mélange initial.\n",
    "- L'avancement `x` est initialisé à la valeur 0 mol et un incrément d'avancement `dx` est entré (dx = 0,00001 mol ici).  \n",
    "- Les listes `nA`, `nB`, `nC` et `nD` sont destinées à recueillir les quantités de matière des réactifs et des produits au fur et à mesure de l'augmentation de l'avancement.  \n",
    "- La liste `X` stocke les valeurs successives de l'avancement."
   ]
  },
  {
   "cell_type": "code",
   "execution_count": null,
   "metadata": {},
   "outputs": [],
   "source": [
    "#Initialisation des variables\n",
    "\n",
    "# Initialisation de la chaine de caractère correspondant \n",
    "# au réactif limitant\n",
    "Rlimitant =''  \n",
    "\n",
    "# Avancement initial\n",
    "x=0            \n",
    "\n",
    "# Pas d'avancement (on augmentera progressivement x de la valeur dx)\n",
    "dx=0.00001       \n",
    "\n",
    "# Création des listes contenant les quantités de matière \n",
    "# et initialisation de ces listes avec la valeur initiale  \n",
    "nA=[nA_0]      \n",
    "nB=[nB_0]      \n",
    "nC=[nC_0]\n",
    "nD=[nD_0]\n",
    "\n",
    "# Création et nitialisation de la liste contenant l'avancement\n",
    "X=[x]          "
   ]
  },
  {
   "cell_type": "markdown",
   "metadata": {},
   "source": [
    "## 6. Calculs des quantités de matière et détermination du réactif limitant\n",
    "\n",
    "### Calculs des quantités de matière en cours d'avancement\n",
    "\n",
    "__Question 4 :__ Sur le modèle de la ligne 5, modifier les lignes de code 6, 7 et 8 permettant de calculer les quantités de matière du réactif B, ainsi que des produits C et D.\n",
    " \n",
    "NOTE CODAGE : l'instruction `nA.append(nA_0-a*x)` permet d'ajouter la valeur indiquée entre parenthèses à la fin de la liste nA.\n",
    " \n",
    "### Détermination du réactif limitant\n",
    "\n",
    "__Question 5 :__ Compléter les tests des lignes de code 11 et 12 en choisissant parmi : `<0`, `<=0`, `>0` et `>=0`.  \n",
    "\n",
    "NOTE CODAGE : L'instruction `nA[-1]` permet d'avoir accès à la dernière valeur de la liste `nA`.  \n",
    "\n",
    "__Question 6 :__ Compléter la ligne de code 13 en choisissant l'opérateur logique adéquat parmi : `and` (ET logique) et `or` (OU logique).\n",
    "\n",
    "\n",
    "\n",
    "### Affichage du nom du réactif limitant et de l'avancement maximal\n"
   ]
  },
  {
   "cell_type": "code",
   "execution_count": null,
   "metadata": {
    "scrolled": true
   },
   "outputs": [],
   "source": [
    "# Calculs des quantités de matière en cours d'avancement\n",
    "while nA[-1] > 0 and nB[-1] > 0 :\n",
    "    x=x+dx\n",
    "    X.append(x)\n",
    "    nA.append(nA_0-a*x)\n",
    "    nB.append()\n",
    "    nC.append()    \n",
    "    nD.append()    \n",
    "\n",
    "#Détermination du réactif limitant \n",
    "if nA[-1]  ???                   : Rlimitant = nom_A\n",
    "if nB[-1]  ???                   : Rlimitant = nom_B\n",
    "if nA[-1]  <=0   ???   nB[-1]<=0 : \n",
    "    Rlimitant=nom_A+'  et '+nom_B+' (le mélange est stoechiometrique)'\n",
    "        \n",
    "#Affichage des résultats\n",
    "print('Réactif limitant :',Rlimitant,\n",
    "      '\\nAvancement maximum : ','{0:.2e}'.format(x),\n",
    "      'mol' )\n",
    "# {0:.2e} permet d’afficher un nombre arrondi  \n",
    "# avec 3 chiffres significatifs."
   ]
  },
  {
   "cell_type": "markdown",
   "metadata": {},
   "source": [
    "__Question 7 :__ Indiquer la ligne du programme de la cellule précédente qui code l'information correspondant à une transformation totale. Justifier."
   ]
  },
  {
   "cell_type": "markdown",
   "metadata": {},
   "source": [
    "Répondre ici."
   ]
  },
  {
   "cell_type": "markdown",
   "metadata": {},
   "source": [
    "## 7.  Affichage des courbes permettant de suivre l'évolution des quantités de matière\n",
    "\n",
    "Les lignes de code 2, 3 et 4 ci-dessous permettent d'afficher les courbes de l'évolution des quantités de matière de A, B et C en fonction de l'avancement x. \n",
    "\n",
    "__Question 8 :__ Compléter la ligne 5 pour afficher la courbe correspondant à l'évolution de la quantité de matière de l'espèce chimique D en fonction de l'avancement. Cette courbe devra être noire avec une ligne en pointillé court et de la même largeur que les trois autres courbes.\n",
    "\n",
    "NOTE CODAGE : la commande `plt.plot` peut être enrichie de divers arguments (comme ici avec `'r-'` = r pour red  et - pour ligne en trait plein) :\n",
    " \n",
    "-\tCouleur : `r` (red), `k` (black), `b` (blue), `y` (yellow), `g` (green)\n",
    "-\tStyle de ligne : `-` (ligne en trait plein), `--` (ligne en pointillé long), `-.` (ligne en pointillé mixte), `:` (ligne en pointillé court)  \n",
    "-   `lw` signifie linewidth (largeur de la ligne)\n",
    "-   `label` permet de légender la courbe en créant une étiquette"
   ]
  },
  {
   "cell_type": "code",
   "execution_count": null,
   "metadata": {},
   "outputs": [],
   "source": [
    "# Affichage des courbes permettant de suivre l'évolution des quantités de matière\n",
    "plt.plot(X,nA,'r-',lw=1,label=nom_A)\n",
    "plt.plot(X,nB,'g--',lw=1,label=nom_B)    \n",
    "plt.plot(X,nC,'b-.',lw=1,label=nom_C)    \n",
    "plt.plot()    \n",
    "plt.grid()\n",
    "plt.xlabel('x (mol)')\n",
    "plt.ylabel('n (mol)')\n",
    "plt.legend()\n",
    "plt.show()"
   ]
  },
  {
   "cell_type": "markdown",
   "metadata": {},
   "source": [
    "__Question 9 :__ Sans regarder la légende, comment peut-on distinguer graphiquement les courbes des réactifs des courbes des produits ?"
   ]
  },
  {
   "cell_type": "markdown",
   "metadata": {},
   "source": [
    "Répondre ici."
   ]
  },
  {
   "cell_type": "markdown",
   "metadata": {},
   "source": [
    "__Question 10 :__ Déterminer graphiquement les quantités de matière des différentes espèces à l'état final."
   ]
  },
  {
   "cell_type": "markdown",
   "metadata": {},
   "source": [
    "Répondre ici."
   ]
  },
  {
   "cell_type": "markdown",
   "metadata": {},
   "source": [
    "__Question 11 :__ Quel est le réactif en excès ? et comment modifier sa quantité initiale pour obtenir un mélange stoechiométrique ?"
   ]
  },
  {
   "cell_type": "markdown",
   "metadata": {},
   "source": [
    "Répondre ici."
   ]
  },
  {
   "cell_type": "markdown",
   "metadata": {},
   "source": [
    "## 8. Modélisation des droites obtenues\n",
    "\n",
    "Les lignes de code suivantes vont permettre de modéliser chacune des 4 droites obtenues sur le graphe ci-dessus.\n",
    "Ces droites sont de type linéaire ou affine et peuvent être modélisées avec un polynôme de degré 1 : ax+b (où x est à la puissance 1).\n",
    "Les résultats des quatre modélisations sont ensuite affichés pour analyse.\n",
    "\n",
    "NOTE CODAGE :  \n",
    "L'instruction `p=np.polyfit(x,y,deg)` permet de modéliser une courbe `y`=f(`x`) avec un polynome de degré `deg`. La fonction polyfit de la bibliothèque numpy retourne un tableau numpy `p` à une dimension contenant les coefficient du polynôme :\n",
    "$$P(x) = p[0] \\times x^{deg} + p[1] \\times x^{deg-1}... + p[deg]$$\n",
    "Pour un polynôme de degré 1 :  \n",
    "$$P(x)=p[0]\\times x+p[1]$$  \n",
    "\n",
    "__Question 12 :__ Compléter les lignes de code 2, 3 et 4 (sur le modèle de la ligne 1) pour modéliser les courbes concernant l'évolution des quantités de matière des espèces chimiques B, C et D.\n"
   ]
  },
  {
   "cell_type": "code",
   "execution_count": null,
   "metadata": {
    "scrolled": true
   },
   "outputs": [],
   "source": [
    "Amodel=np.polyfit(X, nA,1)\n",
    "Bmodel=\n",
    "Cmodel=\n",
    "Dmodel=\n",
    "\n",
    "print (\"La droite représentant l'évolution de la quantité n de\",\n",
    "       '{:8}'.format(nom_A),\n",
    "       \" en fonction de x a pour équation : n = \",\n",
    "       '{0:.0f}'.format(Amodel[0]),'{:5}'.format(\"x +\"),\n",
    "       \"{0:.2e}\".format(Amodel[1]) )\n",
    "\n",
    "print (\"La droite représentant l'évolution de la quantité n de\",\n",
    "       '{:8}'.format(nom_B),\n",
    "       \" en fonction de x a pour équation : n = \",\n",
    "       '{0:.0f}'.format(Bmodel[0]),'{:5}'.format(\"x +\"),\n",
    "       \"{0:.2e}\".format(Bmodel[1]) )\n",
    "\n",
    "print (\"La droite représentant l'évolution de la quantité n de\",\n",
    "       '{:8}'.format(nom_C),\n",
    "       \" en fonction de x a pour équation : n =  \",\n",
    "       '{0:.0f}'.format(Cmodel[0]),'{:5}'.format(\"x +\"),\n",
    "       \"{0:.2e}\".format(Cmodel[1]) )\n",
    "\n",
    "print (\"La droite représentant l'évolution de la quantité n de\",\n",
    "       '{:8}'.format(nom_D),\n",
    "       \" en fonction de x a pour équation : n =  \",\n",
    "       '{0:.0f}'.format(Dmodel[0]),'{:5}'.format(\"x +\"),\n",
    "       \"{0:.2e}\".format(Dmodel[1]) )\n"
   ]
  },
  {
   "cell_type": "markdown",
   "metadata": {},
   "source": [
    "__Question 13:__ En quoi les équations des courbes modélisées sont-elles cohérentes avec les données du problème ?"
   ]
  },
  {
   "cell_type": "markdown",
   "metadata": {},
   "source": [
    "Répondre ici."
   ]
  },
  {
   "cell_type": "markdown",
   "metadata": {},
   "source": [
    "## Enregistrer ce notebook au format html\n",
    "\n",
    "Une fois que vous avez terminé de répondre aux questions, enregistrez ce notebook au format html en utilisant le menu `File` -> `Download as` -> `HTML (.html)` et envoyez le moi par la messagerie Pronote. Vérifiez que vous avez bien indiqué en haut du fichier le nom de tous les élèves du groupe."
   ]
  },
  {
   "cell_type": "code",
   "execution_count": null,
   "metadata": {},
   "outputs": [],
   "source": []
  }
 ],
 "metadata": {
  "celltoolbar": "Aucun(e)",
  "kernelspec": {
   "display_name": "Python 3",
   "language": "python",
   "name": "python3"
  },
  "language_info": {
   "codemirror_mode": {
    "name": "ipython",
    "version": 3
   },
   "file_extension": ".py",
   "mimetype": "text/x-python",
   "name": "python",
   "nbconvert_exporter": "python",
   "pygments_lexer": "ipython3",
   "version": "3.7.3"
  }
 },
 "nbformat": 4,
 "nbformat_minor": 4
}
